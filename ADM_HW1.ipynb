{
 "cells": [
  {
   "cell_type": "markdown",
   "metadata": {},
   "source": [
    "# Say \"Hello, World!\" With Python"
   ]
  },
  {
   "cell_type": "code",
   "execution_count": 1,
   "metadata": {
    "scrolled": true
   },
   "outputs": [
    {
     "name": "stdout",
     "output_type": "stream",
     "text": [
      "Hello, World!\n"
     ]
    }
   ],
   "source": [
    "print(\"Hello, World!\")"
   ]
  },
  {
   "cell_type": "markdown",
   "metadata": {},
   "source": [
    "# Python If-Else"
   ]
  },
  {
   "cell_type": "code",
   "execution_count": null,
   "metadata": {},
   "outputs": [],
   "source": [
    "import math\n",
    "import os\n",
    "import random\n",
    "import re\n",
    "import sys\n",
    "\n",
    "if __name__ == '__main__':\n",
    "    n = int(input())\n",
    "    if n%2==1:\n",
    "        print('Weird')\n",
    "    else:\n",
    "        if n>=2 and n<=5:\n",
    "                print(\"Not Weird\")\n",
    "        elif n>=6 and n<=20:\n",
    "                print(\"Weird\")\n",
    "        else:\n",
    "                print(\"Not Weird\")\n"
   ]
  },
  {
   "cell_type": "markdown",
   "metadata": {},
   "source": [
    "# Arithmetic Operators"
   ]
  },
  {
   "cell_type": "code",
   "execution_count": null,
   "metadata": {},
   "outputs": [],
   "source": [
    "if __name__ == '__main__':\n",
    "    a = int(input())\n",
    "    b = int(input())\n",
    "    print(a+b)\n",
    "    print(a-b)\n",
    "    print(a*b)\n"
   ]
  },
  {
   "cell_type": "markdown",
   "metadata": {},
   "source": [
    "# Python: Division"
   ]
  },
  {
   "cell_type": "code",
   "execution_count": null,
   "metadata": {},
   "outputs": [],
   "source": [
    "if __name__ == '__main__':\n",
    "    a = int(input())\n",
    "    b = int(input())\n",
    "    print(a//b) \n",
    "    print(a/b)"
   ]
  },
  {
   "cell_type": "markdown",
   "metadata": {},
   "source": [
    "# Loops"
   ]
  },
  {
   "cell_type": "code",
   "execution_count": null,
   "metadata": {},
   "outputs": [],
   "source": [
    "if __name__ == '__main__':\n",
    "    n = int(input())\n",
    "    for i in range(n):\n",
    "        print(i*i)\n"
   ]
  },
  {
   "cell_type": "markdown",
   "metadata": {},
   "source": [
    "# Write a function"
   ]
  },
  {
   "cell_type": "code",
   "execution_count": null,
   "metadata": {},
   "outputs": [],
   "source": [
    "def is_leap(year):\n",
    "    leap = False\n",
    "    if(year%4==0 and year%100!=0):\n",
    "        leap = True\n",
    "    elif(year%400==0):\n",
    "        leap = True\n",
    "    else:\n",
    "        leap=False\n",
    "    \n",
    "    return leap"
   ]
  },
  {
   "cell_type": "markdown",
   "metadata": {},
   "source": [
    "# Print Fuction"
   ]
  },
  {
   "cell_type": "code",
   "execution_count": null,
   "metadata": {},
   "outputs": [],
   "source": [
    "if __name__ == '__main__':\n",
    "    n = int(input())\n",
    "    for i in range(1,n+1):\n",
    "        print(i,end=\"\")"
   ]
  },
  {
   "cell_type": "markdown",
   "metadata": {},
   "source": [
    "# List Comprehensions"
   ]
  },
  {
   "cell_type": "code",
   "execution_count": null,
   "metadata": {},
   "outputs": [],
   "source": [
    "if __name__ == '__main__':\n",
    "    x = int(input())\n",
    "    y = int(input())\n",
    "    z = int(input())\n",
    "    n = int(input())\n",
    "    print([[i,j,k] for i in range(x+1) for j in range(y+1) for k in range(z+1) \n",
    "    if (i+j+k!=n)])\n"
   ]
  },
  {
   "cell_type": "markdown",
   "metadata": {},
   "source": [
    "# Find the Runner-Up Score!"
   ]
  },
  {
   "cell_type": "code",
   "execution_count": null,
   "metadata": {},
   "outputs": [],
   "source": [
    "if __name__ == '__main__':\n",
    "    n = int(input())\n",
    "    arr = map(int, input().split())\n",
    "    print(sorted(set(arr))[-2])"
   ]
  },
  {
   "cell_type": "markdown",
   "metadata": {},
   "source": [
    "# Nested Lists"
   ]
  },
  {
   "cell_type": "code",
   "execution_count": null,
   "metadata": {},
   "outputs": [],
   "source": [
    "marksheet=[]\n",
    "n=int(input())\n",
    "for _ in range(n):\n",
    "    name=input()\n",
    "    score=float(input())\n",
    "    marksheet.append([name,score])\n",
    "#marksheet=[[name,score] for _ in range(0,n)]\n",
    "second_lowest=sorted(set(score for name,score in marksheet))[1]\n",
    "print(\"\\n\".join(name for name,score in sorted(marksheet) if score==second_lowest))"
   ]
  },
  {
   "cell_type": "markdown",
   "metadata": {},
   "source": [
    "# Finding the percentage"
   ]
  },
  {
   "cell_type": "code",
   "execution_count": null,
   "metadata": {},
   "outputs": [],
   "source": [
    "if __name__ == '__main__':\n",
    "    n = int(input())\n",
    "    student_marks = {}\n",
    "    for _ in range(n):\n",
    "        name, *line = input().split()\n",
    "        scores = list(map(float, line))\n",
    "        student_marks[name] = scores\n",
    "    query_name = input()\n",
    "    avg = sum(student_marks[query_name])/len(student_marks[query_name])\n",
    "    print(\"%.2f\" % avg)\n"
   ]
  },
  {
   "cell_type": "markdown",
   "metadata": {},
   "source": [
    "# Lists"
   ]
  },
  {
   "cell_type": "code",
   "execution_count": null,
   "metadata": {},
   "outputs": [],
   "source": [
    "if __name__ == '__main__':\n",
    "    N = int(input())\n",
    "    M=[]\n",
    "    for _ in range(N):\n",
    "       line=input().split(\" \")\n",
    "       command=line[0]\n",
    "       if(command == \"insert\"):\n",
    "        M.insert(int(line[1]),int(line[2])) #insert(index,object)\n",
    "       elif(command == \"print\"):\n",
    "        print(M)\n",
    "       elif(command == \"remove\"):\n",
    "        M.remove(int(line[1]))\n",
    "       elif(command == \"append\"):\n",
    "        M.append(int(line[1]))\n",
    "       elif(command == \"sort\"):\n",
    "        M.sort()\n",
    "       elif(command == \"pop\"):\n",
    "        M.pop()\n",
    "       elif(command == \"reverse\"):\n",
    "        M.reverse()"
   ]
  },
  {
   "cell_type": "markdown",
   "metadata": {},
   "source": [
    "# Tuples"
   ]
  },
  {
   "cell_type": "code",
   "execution_count": null,
   "metadata": {},
   "outputs": [],
   "source": [
    "if __name__ == '__main__':\n",
    "    n = int(input())\n",
    "    integer_list = map(int, input().split())\n",
    "    t=tuple(integer_list)\n",
    "    print(hash(t))"
   ]
  },
  {
   "cell_type": "markdown",
   "metadata": {},
   "source": [
    "# sWAP cASE"
   ]
  },
  {
   "cell_type": "code",
   "execution_count": null,
   "metadata": {},
   "outputs": [],
   "source": [
    "def swap_case(s):\n",
    "    str=s.swapcase()\n",
    "    return str"
   ]
  },
  {
   "cell_type": "markdown",
   "metadata": {},
   "source": [
    "# String Split and Join"
   ]
  },
  {
   "cell_type": "code",
   "execution_count": null,
   "metadata": {},
   "outputs": [],
   "source": [
    "def split_and_join(line):\n",
    "    # write your code here\n",
    "    s=line.split(\" \")\n",
    "    s=\"-\".join(s)\n",
    "    return s"
   ]
  },
  {
   "cell_type": "markdown",
   "metadata": {},
   "source": [
    "# What's Your Name?"
   ]
  },
  {
   "cell_type": "code",
   "execution_count": null,
   "metadata": {},
   "outputs": [],
   "source": [
    "def print_full_name(a, b):\n",
    "    print(\"Hello \"+a+\" \"+b+\"! \"+\"You just delved into python.\")"
   ]
  },
  {
   "cell_type": "markdown",
   "metadata": {},
   "source": [
    "# Mutations"
   ]
  },
  {
   "cell_type": "code",
   "execution_count": null,
   "metadata": {},
   "outputs": [],
   "source": [
    "def mutate_string(string, position, character):\n",
    "    L=list(string)\n",
    "    L[position]=character\n",
    "    S=\"\".join(L)\n",
    "    return S\n"
   ]
  },
  {
   "cell_type": "markdown",
   "metadata": {},
   "source": [
    "# Find a String"
   ]
  },
  {
   "cell_type": "code",
   "execution_count": null,
   "metadata": {},
   "outputs": [],
   "source": [
    "def count_substring(string, sub_string):\n",
    "    n=0\n",
    "    List=[]\n",
    "    for i in range(0,len(string)-len(sub_string)+1):  \n",
    "       List.append(string[i:i+len(sub_string)])\n",
    "    for j in range(len(List)):\n",
    "        if(sub_string == List[j]):\n",
    "            n=n+1\n",
    "    return n"
   ]
  },
  {
   "cell_type": "markdown",
   "metadata": {},
   "source": [
    "# String Validators"
   ]
  },
  {
   "cell_type": "code",
   "execution_count": null,
   "metadata": {},
   "outputs": [],
   "source": [
    "if __name__ == '__main__':\n",
    "    s = input()\n",
    "    #1 any alphanumeric\n",
    "    print(any(letter.isalnum() for letter in s))\n",
    "    # 2 any alphabetical characters\n",
    "    print(any(letter.isalpha() for letter in s))\n",
    "    #3 any digits\n",
    "    print(any(letter.isdigit() for letter in s))\n",
    "    #4 any lowercase\n",
    "    print(any(letter.islower() for letter in s))\n",
    "    #5 any uppercase\n",
    "    print(any(letter.isupper() for letter in s))"
   ]
  },
  {
   "cell_type": "markdown",
   "metadata": {},
   "source": [
    "# Text Alignment"
   ]
  },
  {
   "cell_type": "code",
   "execution_count": null,
   "metadata": {},
   "outputs": [],
   "source": [
    "#Replace all ______ with rjust, ljust or center. \n",
    "\n",
    "thickness = int(input()) #This must be an odd number\n",
    "c = 'H'\n",
    "\n",
    "#Top Cone\n",
    "for i in range(thickness):\n",
    "    print((c*i).rjust(thickness-1)+c+(c*i).ljust(thickness-1))\n",
    "\n",
    "#Top Pillars\n",
    "for i in range(thickness+1):\n",
    "    print((c*thickness).center(thickness*2)+(c*thickness).center(thickness*6))\n",
    "\n",
    "#Middle Belt\n",
    "for i in range((thickness+1)//2):\n",
    "    print((c*thickness*5).center(thickness*6))    \n",
    "\n",
    "#Bottom Pillars\n",
    "for i in range(thickness+1):\n",
    "    print((c*thickness).center(thickness*2)+(c*thickness).center(thickness*6))    \n",
    "\n",
    "#Bottom Cone\n",
    "for i in range(thickness):\n",
    "    print(((c*(thickness-i-1)).rjust(thickness)+c+(c*(thickness-i-1)).ljust(thickness)).rjust(thickness*6))\n"
   ]
  },
  {
   "cell_type": "markdown",
   "metadata": {},
   "source": [
    "# Text Wrap"
   ]
  },
  {
   "cell_type": "code",
   "execution_count": null,
   "metadata": {},
   "outputs": [],
   "source": [
    "def wrap(string, max_width):\n",
    "    #1st method\n",
    "    #return \"\\n\".join([string[i:i+max_width] for i in range(0, len(string), max_width)])\n",
    "    #range(start,stop,step)\n",
    "    #2nd method\n",
    "    lists = textwrap.wrap(string, width=max_width) \n",
    "    return \"\\n\".join(lists)"
   ]
  },
  {
   "cell_type": "markdown",
   "metadata": {},
   "source": [
    "# Designer Door Mat"
   ]
  },
  {
   "cell_type": "code",
   "execution_count": null,
   "metadata": {},
   "outputs": [],
   "source": [
    "# Enter your code here. Read input from STDIN. Print output to STDOUT\n",
    "n, m = map(int,input().split())\n",
    "pattern = [('.|.'*(2*i + 1)).center(m, '-') for i in range(n//2)]\n",
    "#center(width, fillchar)\n",
    "print('\\n'.join(pattern + ['WELCOME'.center(m, '-')] + pattern[::-1]))\n"
   ]
  },
  {
   "cell_type": "markdown",
   "metadata": {},
   "source": [
    "# String Formatting"
   ]
  },
  {
   "cell_type": "code",
   "execution_count": null,
   "metadata": {},
   "outputs": [],
   "source": [
    "def print_formatted(number):\n",
    "    # your code goes here\n",
    "    w = len(str(bin(number).replace('0b','')))\n",
    "    for i in range(1,number+1):\n",
    "        b = bin(int(i)).replace('0b','').rjust(w, ' ')\n",
    "        o = oct(int(i)).replace('0o','').rjust(w, ' ')\n",
    "        h = hex(int(i)).replace('0x','').upper().rjust(w, ' ')\n",
    "        d = str(i).rjust(w, ' ')\n",
    "        print(d,o,h,b)\n",
    "    return \n",
    "#replace(old,new,max) max times"
   ]
  },
  {
   "cell_type": "markdown",
   "metadata": {},
   "source": [
    "# Alphabet Rangoli"
   ]
  },
  {
   "cell_type": "code",
   "execution_count": null,
   "metadata": {},
   "outputs": [],
   "source": [
    "import string \n",
    "letter=string.ascii_lowercase\n",
    "\n",
    "def print_rangoli(size):\n",
    "    # your code goes here\n",
    "    #N->4N-3*2N-1 （Column*Row）\n",
    "    List=[]\n",
    "    for i in range(size):\n",
    "       s=\"-\".join(letter[i:size])\n",
    "       List.append((s[::-1]+s[1:]).center(4*size-3,\"-\"))\n",
    "    print(\"\\n\".join(List[:0:-1]+List))\n",
    "    return"
   ]
  },
  {
   "cell_type": "markdown",
   "metadata": {},
   "source": [
    "# Capitalize!"
   ]
  },
  {
   "cell_type": "code",
   "execution_count": null,
   "metadata": {},
   "outputs": [],
   "source": [
    "# Complete the solve function below.\n",
    "def solve(s):   \n",
    "    return \" \".join(l.capitalize() for l in s.split(\" \"))"
   ]
  },
  {
   "cell_type": "markdown",
   "metadata": {},
   "source": [
    "# The Minion Game"
   ]
  },
  {
   "cell_type": "markdown",
   "metadata": {},
   "source": [
    "def minion_game(string):\n",
    "    # your code goes here\n",
    "    vowels='AEIOU'\n",
    "    Staurt=0\n",
    "    Kevin=0\n",
    "    for i in range(len(string)):\n",
    "        if(string[i] in vowels):\n",
    "            Kevin+=(len(string)-i)\n",
    "        else:\n",
    "            Staurt+=(len(string)-i)\n",
    "    if(Kevin>Staurt):\n",
    "        print('Kevin',Kevin)\n",
    "    elif(Staurt>Kevin):\n",
    "        print(\"Stuart\",Staurt)\n",
    "    else:\n",
    "        print(\"Draw\")\n",
    "    return"
   ]
  },
  {
   "cell_type": "markdown",
   "metadata": {},
   "source": [
    "# Merge the Tools!"
   ]
  },
  {
   "cell_type": "code",
   "execution_count": null,
   "metadata": {},
   "outputs": [],
   "source": [
    "from collections import OrderedDict\n",
    "def merge_the_tools(string, k):\n",
    "    # your code goes here\n",
    "    L=[]\n",
    "    i=0\n",
    "    while i<len(string):\n",
    "        L.append(string[i:i+k])\n",
    "        i=i+k\n",
    "    for j in range(len(L)):\n",
    "       print(\"\".join(OrderedDict.fromkeys(L[j])))\n",
    "    return"
   ]
  },
  {
   "cell_type": "markdown",
   "metadata": {},
   "source": [
    "# Introduction to Sets"
   ]
  },
  {
   "cell_type": "code",
   "execution_count": null,
   "metadata": {},
   "outputs": [],
   "source": [
    "def average(array):\n",
    "    # your code goes here\n",
    "   return(sum(set(array))/len(set(array)))"
   ]
  },
  {
   "cell_type": "markdown",
   "metadata": {},
   "source": [
    "# Symmetric Difference"
   ]
  },
  {
   "cell_type": "code",
   "execution_count": null,
   "metadata": {},
   "outputs": [],
   "source": [
    "# Enter your code here. Read input from STDIN. Print output to STDOUT\n",
    "L=[]\n",
    "a=set()\n",
    "b=set()\n",
    "for _ in range(4):\n",
    "    L.append(input().split())\n",
    "a.update(list(map(int,L[1])))\n",
    "b.update(list(map(int,L[3])))\n",
    "#c=a.difference(b).union(b.difference(a))\n",
    "c=a.symmetric_difference(b)\n",
    "c=list(c)\n",
    "c.sort()\n",
    "for num in c:\n",
    "   print(num)"
   ]
  },
  {
   "cell_type": "markdown",
   "metadata": {},
   "source": [
    "# No Idea!"
   ]
  },
  {
   "cell_type": "code",
   "execution_count": null,
   "metadata": {},
   "outputs": [],
   "source": [
    "# Enter your code here. Read input from STDIN. Print output to STDOUT\n",
    "L=[]\n",
    "H=0\n",
    "a=set()\n",
    "b=set()\n",
    "for _ in range(4):\n",
    "    L.append(input().split())\n",
    "Arr=list(map(int,L[1]))\n",
    "\n",
    "a.update(list(map(int,L[2])))\n",
    "b.update(list(map(int,L[3])))\n",
    "for num in Arr:\n",
    "    if num in a:\n",
    "        H+=1\n",
    "    elif num in b:\n",
    "        H-=1\n",
    "print(H)\n"
   ]
  },
  {
   "cell_type": "markdown",
   "metadata": {},
   "source": [
    "# Set.add()"
   ]
  },
  {
   "cell_type": "code",
   "execution_count": null,
   "metadata": {},
   "outputs": [],
   "source": [
    "# Enter your code here. Read input from STDIN. Print output to STDOUT\n",
    "s = set()\n",
    "for _ in range(int(input())):\n",
    "    s.add(input())\n",
    "print(len(s))"
   ]
  },
  {
   "cell_type": "markdown",
   "metadata": {},
   "source": [
    "# Set .discard(), .remove() & .pop()"
   ]
  },
  {
   "cell_type": "code",
   "execution_count": null,
   "metadata": {},
   "outputs": [],
   "source": [
    "n = int(input())\n",
    "s = set(map(int, input().split()))\n",
    "L=[]\n",
    "R=0\n",
    "for i in range(int(input())):\n",
    "    L.append(input().split())\n",
    "for j in range (len(L)):\n",
    "    if \"pop\" in L[j]:\n",
    "        s.pop()\n",
    "    elif \"remove\" in L[j]:\n",
    "        s.remove(int(L[j][1]))\n",
    "    elif \"discard\" in L[j]:\n",
    "        s.discard(int(L[j][1]))\n",
    "S=list(s)\n",
    "for num in S:\n",
    "    R+=int(num)\n",
    "print(R)"
   ]
  },
  {
   "cell_type": "markdown",
   "metadata": {},
   "source": [
    "# Set .union() Operation"
   ]
  },
  {
   "cell_type": "code",
   "execution_count": null,
   "metadata": {},
   "outputs": [],
   "source": [
    "# Enter your code here. Read input from STDIN. Print output to STDOUT\n",
    "A=set()\n",
    "B=set()\n",
    "F=int(input())\n",
    "A.update(list(map(int,input().split(' '))))\n",
    "S=int(input())\n",
    "B.update(list(map(int,input().split(' '))))\n",
    "C= A.union(B)\n",
    "print(len(C))"
   ]
  },
  {
   "cell_type": "markdown",
   "metadata": {},
   "source": [
    "# Set .intersection() Operation"
   ]
  },
  {
   "cell_type": "code",
   "execution_count": null,
   "metadata": {},
   "outputs": [],
   "source": [
    "# Enter your code here. Read input from STDIN. Print output to STDOUT\n",
    "A=set()\n",
    "B=set()\n",
    "F=int(input())\n",
    "A.update(list(map(int,input().split(' '))))\n",
    "S=int(input())\n",
    "B.update(list(map(int,input().split(' '))))\n",
    "C= A & B\n",
    "print(len(C))"
   ]
  },
  {
   "cell_type": "markdown",
   "metadata": {},
   "source": [
    "# Set .difference() Operation"
   ]
  },
  {
   "cell_type": "code",
   "execution_count": null,
   "metadata": {},
   "outputs": [],
   "source": [
    "# Enter your code here. Read input from STDIN. Print output to STDOUT\n",
    "A=set()\n",
    "B=set()\n",
    "F=int(input())\n",
    "A.update(list(map(int,input().split(' '))))\n",
    "S=int(input())\n",
    "B.update(list(map(int,input().split(' '))))\n",
    "C= A-B\n",
    "print(len(C))"
   ]
  },
  {
   "cell_type": "markdown",
   "metadata": {},
   "source": [
    "# Set .symmetric_difference() Operation"
   ]
  },
  {
   "cell_type": "code",
   "execution_count": null,
   "metadata": {},
   "outputs": [],
   "source": [
    "# Enter your code here. Read input from STDIN. Print output to STDOUT\n",
    "A=set()\n",
    "B=set()\n",
    "F=int(input())\n",
    "A.update(list(map(int,input().split(' '))))\n",
    "S=int(input())\n",
    "B.update(list(map(int,input().split(' '))))\n",
    "C= A^B\n",
    "print(len(C))"
   ]
  },
  {
   "cell_type": "markdown",
   "metadata": {},
   "source": [
    "# Set Mutations"
   ]
  },
  {
   "cell_type": "code",
   "execution_count": null,
   "metadata": {},
   "outputs": [],
   "source": [
    "# Enter your code here. Read input from STDIN. Print output to STDOUT\n",
    "A=set()\n",
    "B=set()\n",
    "L=[]\n",
    "Num=0\n",
    "F=int(input())\n",
    "A.update(list(map(int,input().split(' '))))\n",
    "S=int(input())\n",
    "for i in range(S*2):\n",
    "    L.append(input().split())\n",
    "for j in range(len(L)):\n",
    "    if \"intersection_update\" in L[j]:\n",
    "       A.intersection_update(set(list(map(int,L[j+1]))))\n",
    "    elif \"update\" in L[j]:\n",
    "        A.update(set(list(map(int,L[j+1]))))\n",
    "    elif \"symmetric_difference_update\" in L[j]:\n",
    "        A.symmetric_difference_update(set(list(map(int,L[j+1]))))\n",
    "    elif \"difference_update\" in L[j]:\n",
    "        A.difference_update(set(list(map(int,L[j+1]))))\n",
    "LN=list(A)\n",
    "for num in (LN):\n",
    "   Num+=int(num)\n",
    "print(Num)\n"
   ]
  },
  {
   "cell_type": "markdown",
   "metadata": {},
   "source": [
    "# The Captain's Room"
   ]
  },
  {
   "cell_type": "code",
   "execution_count": null,
   "metadata": {},
   "outputs": [],
   "source": [
    "k = int(input())\n",
    "L = list(map(int, input().split()))\n",
    "listSum = sum(L)\n",
    "#listsum所有元素的和1*5+2*5+3*5+4*5+5*5+6*5+8=21*5+8=113\n",
    "setSum = sum(set(L))\n",
    "#不重复元素的和 1+2+3+4+5+6+8=21+8=29\n",
    "ans = (setSum * k - listSum) // (k - 1)\n",
    "#（(21+8)*5 - (21*5+8) =8*4\n",
    "print(ans)\n"
   ]
  },
  {
   "cell_type": "markdown",
   "metadata": {},
   "source": [
    "# Check Subset"
   ]
  },
  {
   "cell_type": "code",
   "execution_count": null,
   "metadata": {},
   "outputs": [],
   "source": [
    "# Enter your code here. Read input from STDIN. Print output to STDOUT\n",
    "for _ in range(int(input())):\n",
    "    x, a, z, b = input(), set(input().split()), input(), set(input().split())\n",
    "    print(a.issubset(b))\n"
   ]
  },
  {
   "cell_type": "markdown",
   "metadata": {},
   "source": [
    "# Check Strict Superset"
   ]
  },
  {
   "cell_type": "code",
   "execution_count": null,
   "metadata": {},
   "outputs": [],
   "source": [
    "# Enter your code here. Read input from STDIN. Print output to STDOUT\n",
    "a = set(input().split())\n",
    "print(all(a.issuperset(set(input().split())) for _ in range(int(input()))))\n",
    "\n",
    "#A.issuperset(B)  A is the superset of B?\n",
    "#a>b \n"
   ]
  },
  {
   "cell_type": "markdown",
   "metadata": {},
   "source": [
    "# collections.Counter()"
   ]
  },
  {
   "cell_type": "code",
   "execution_count": null,
   "metadata": {},
   "outputs": [],
   "source": [
    "# Enter your code here. Read input from STDIN. Print output to STDOUT\n",
    "from collections import Counter\n",
    "X=int(input())\n",
    "shoes=Counter(map(int,input().split()))\n",
    "N=int(input())\n",
    "income = 0\n",
    "for i in range(N):\n",
    "    size, price = map(int, input().split())\n",
    "    if shoes[size]: \n",
    "        income += price\n",
    "        shoes[size] -= 1\n",
    "\n",
    "print(income)"
   ]
  },
  {
   "cell_type": "markdown",
   "metadata": {},
   "source": [
    "# DefaultDict Tutorial"
   ]
  },
  {
   "cell_type": "code",
   "execution_count": null,
   "metadata": {},
   "outputs": [],
   "source": [
    "from collections import defaultdict\n",
    "\n",
    "n,m = map(int,input().split())\n",
    "\n",
    "d = defaultdict(list)\n",
    "for i in range(n):\n",
    "    s = input()\n",
    "    d[s].append(i+1)\n",
    "\n",
    "for i in range(m):\n",
    "    x = input()\n",
    "    if x in d:\n",
    "        print(' '.join(map(str,d[x])))\n",
    "    else:\n",
    "        print(-1)"
   ]
  },
  {
   "cell_type": "markdown",
   "metadata": {},
   "source": [
    "# Collections.namedtuple()"
   ]
  },
  {
   "cell_type": "code",
   "execution_count": null,
   "metadata": {},
   "outputs": [],
   "source": [
    "from collections import namedtuple\n",
    "n = int(input())\n",
    "sum = 0\n",
    "stu = namedtuple('stu',input().split())\n",
    "for i in range(n):\n",
    "    x, y, z, t = input().split()\n",
    "    s = stu(x,y,z,t)\n",
    "    sum += float(s.MARKS)\n",
    "aver = sum / n\n",
    "print(\"%.2f\" % aver)"
   ]
  },
  {
   "cell_type": "markdown",
   "metadata": {},
   "source": [
    "# Collections.OrderedDict()"
   ]
  },
  {
   "cell_type": "code",
   "execution_count": null,
   "metadata": {},
   "outputs": [],
   "source": [
    "# Enter your code here. Read input from STDIN. Print output to STDOUT\n",
    "from collections import OrderedDict\n",
    "od = OrderedDict()\n",
    "for i in range(int(input())):\n",
    "    s = input().split()\n",
    "    k = ' '.join(s[:-1])#不包含最后一位\n",
    "    v = int(s[-1])#最后一位\n",
    "    if k in od:\n",
    "        od[k] += v\n",
    "    else:\n",
    "        od[k] = v\n",
    "for i in od:\n",
    "    print(i,od[i])\n"
   ]
  },
  {
   "cell_type": "markdown",
   "metadata": {},
   "source": [
    "# Word Order"
   ]
  },
  {
   "cell_type": "code",
   "execution_count": null,
   "metadata": {},
   "outputs": [],
   "source": [
    "# Enter your code here. Read input from STDIN. Print output to STDOUT\n",
    "from collections import OrderedDict\n",
    "book = OrderedDict()\n",
    "for i in range(int(input())):\n",
    "    str = input()\n",
    "    if str not in book:\n",
    "        book[str] = 1\n",
    "    else:\n",
    "        book[str] += 1\n",
    "print(len(book))       \n",
    "for i in book.keys():\n",
    "    print(book[i], end =\" \")\n"
   ]
  },
  {
   "cell_type": "markdown",
   "metadata": {},
   "source": [
    "# Collections.deque()"
   ]
  },
  {
   "cell_type": "code",
   "execution_count": null,
   "metadata": {},
   "outputs": [],
   "source": [
    "# Enter your code here. Read input from STDIN. Print output to STDOUT\n",
    "from collections import deque\n",
    "d = deque()\n",
    "for i in range(int(input())):\n",
    "    s=input().split()\n",
    "    x=s[0]\n",
    "    if(x==\"append\"):\n",
    "        d.append(s[1])\n",
    "    elif(x==\"appendleft\"):\n",
    "        d.appendleft(s[1])\n",
    "    elif(x==\"pop\"):\n",
    "        d.pop()\n",
    "    elif(x==\"popleft\"):\n",
    "        d.popleft()\n",
    "for item in d:\n",
    "   print(item,end=\" \") \n"
   ]
  },
  {
   "cell_type": "markdown",
   "metadata": {},
   "source": [
    "# Piling Up!"
   ]
  },
  {
   "cell_type": "code",
   "execution_count": null,
   "metadata": {},
   "outputs": [],
   "source": [
    "# Enter your code here. Read input from STDIN. Print output to STDOUT\n",
    "from collections import deque\n",
    "T = int(input())\n",
    "for case in range(T):\n",
    "    n = int(input())\n",
    "    ls = list(map(int,input().split()))\n",
    "    pos = ls.index(min(ls))\n",
    "    left = ls[:pos]\n",
    "    right = ls[pos:]\n",
    "    if left == sorted(left,reverse=True) and right == sorted(right):\n",
    "        print(\"Yes\")\n",
    "    else:\n",
    "        print(\"No\")\n"
   ]
  },
  {
   "cell_type": "markdown",
   "metadata": {},
   "source": [
    "# Company Logo"
   ]
  },
  {
   "cell_type": "code",
   "execution_count": null,
   "metadata": {},
   "outputs": [],
   "source": [
    "#!/bin/python3\n",
    "\n",
    "import math\n",
    "import os\n",
    "import random\n",
    "import re\n",
    "import sys\n",
    "import collections\n",
    "\n",
    "if __name__ == '__main__':\n",
    "    s = input()\n",
    "    dic = collections.OrderedDict()\n",
    "    for i in s:\n",
    "        if not i in dic:\n",
    "            dic[i] = 1\n",
    "        else:\n",
    "            dic[i] += 1\n",
    "    cnt = 3\n",
    "    for i in sorted(dic.items(), key = lambda item : (-item[1], item[0])):\n",
    "        if cnt > 0:\n",
    "            print(*i)\n",
    "            cnt -= 1\n"
   ]
  },
  {
   "cell_type": "markdown",
   "metadata": {},
   "source": [
    "# Calendar Module"
   ]
  },
  {
   "cell_type": "code",
   "execution_count": null,
   "metadata": {},
   "outputs": [],
   "source": [
    "# Enter your code here. Read input from STDIN. Print output to STDOUT\n",
    "M,D,Y=map(int,input().split())\n",
    "import calendar\n",
    "A=calendar.weekday(Y, M, D)\n",
    "if(A==0):\n",
    "    print(\"MONDAY\")\n",
    "elif(A==1):\n",
    "    print(\"TUESDAY\")\n",
    "elif(A==2):\n",
    "    print(\"WEDNESDAY\")\n",
    "elif(A==3):\n",
    "    print(\"THURSDAY\")\n",
    "elif(A==4):\n",
    "    print(\"FRIDAY\")\n",
    "elif(A==5):\n",
    "    print(\"SATURDAY\")\n",
    "elif(A==6):\n",
    "    print(\"SUNDAY\")"
   ]
  },
  {
   "cell_type": "markdown",
   "metadata": {},
   "source": [
    "# Time Delta"
   ]
  },
  {
   "cell_type": "code",
   "execution_count": null,
   "metadata": {},
   "outputs": [],
   "source": [
    "\n",
    "import math\n",
    "import os\n",
    "import random\n",
    "import re\n",
    "import sys\n",
    "import datetime\n",
    "# Complete the time_delta function below.\n",
    "def time_delta(t1, t2):\n",
    "    #Sun 10 May 2015 13:54:36 -0700\n",
    "    d1 = datetime.datetime.strptime(t1, '%a %d %b %Y %H:%M:%S %z')\n",
    "    d2 = datetime.datetime.strptime(t2, '%a %d %b %Y %H:%M:%S %z')\n",
    "    d=d1-d2\n",
    "    return(str(int(abs(d.total_seconds())))) \n",
    "\n",
    "if __name__ == '__main__':\n",
    "    fptr = open(os.environ['OUTPUT_PATH'], 'w')\n",
    "    t = int(input())\n",
    "    for t_itr in range(t):\n",
    "        t1 = input()\n",
    "        t2 = input()\n",
    "        delta = time_delta(t1, t2)\n",
    "        fptr.write(delta + '\\n')\n",
    "    fptr.close()\n"
   ]
  },
  {
   "cell_type": "markdown",
   "metadata": {},
   "source": [
    "# Exceptions"
   ]
  },
  {
   "cell_type": "code",
   "execution_count": null,
   "metadata": {},
   "outputs": [],
   "source": [
    "# Enter your code here. Read input from STDIN. Print output to STDOUT\n",
    "for i in range(int(input())):\n",
    "    a,b=input().split()\n",
    "    try:\n",
    "      print(int(a)//int(b))\n",
    "    except ZeroDivisionError as e:\n",
    "        print( \"Error Code:\",e)\n",
    "    except ValueError as v:\n",
    "        print (\"Error Code:\",v)\n"
   ]
  },
  {
   "cell_type": "markdown",
   "metadata": {},
   "source": [
    "# Zipped!"
   ]
  },
  {
   "cell_type": "code",
   "execution_count": null,
   "metadata": {},
   "outputs": [],
   "source": [
    "# Enter your code here. Read input from STDIN. Print output to STDOUT\n",
    "#N stu X sub\n",
    "n, x = map(int, input().split()) \n",
    "sheet = []\n",
    "for _ in range(x):\n",
    "    sheet.append( map(float, input().split()) ) \n",
    "for i in zip(*sheet): \n",
    "    print( sum(i)/len(i) )\n"
   ]
  },
  {
   "cell_type": "markdown",
   "metadata": {},
   "source": [
    "# Athlete Sort"
   ]
  },
  {
   "cell_type": "code",
   "execution_count": null,
   "metadata": {},
   "outputs": [],
   "source": [
    "#!/bin/python3\n",
    "\n",
    "import math\n",
    "import os\n",
    "import random\n",
    "import re\n",
    "import sys\n",
    "\n",
    "if __name__ == '__main__':\n",
    "    nm = input().split()\n",
    "    n = int(nm[0])\n",
    "    m = int(nm[1])\n",
    "    arr = []\n",
    "    for _ in range(n):\n",
    "        arr.append(list(map(int, input().rstrip().split())))\n",
    "    k = int(input())\n",
    "    L=sorted(arr,key=(lambda x:x[k]))\n",
    "    for i in range(len(L)):\n",
    "        print(\" \".join(map(str,L[i])))\n",
    "    "
   ]
  },
  {
   "cell_type": "markdown",
   "metadata": {},
   "source": [
    "# ginortS"
   ]
  },
  {
   "cell_type": "code",
   "execution_count": null,
   "metadata": {},
   "outputs": [],
   "source": [
    "import string\n",
    "print(*sorted(input(), key=(string.ascii_letters + '1357902468').index), sep='')\n"
   ]
  },
  {
   "cell_type": "markdown",
   "metadata": {},
   "source": [
    "# Map and Lambda Function"
   ]
  },
  {
   "cell_type": "code",
   "execution_count": null,
   "metadata": {},
   "outputs": [],
   "source": [
    "cube = lambda x: pow(x,3)\n",
    "\n",
    "def fibonacci(n):\n",
    "    # return a list of fibonacci numbers\n",
    "     lis = [0,1]\n",
    "     for i in range(2,n):\n",
    "         lis.append(lis[i-2] + lis[i-1])\n",
    "     return(lis[0:n])"
   ]
  },
  {
   "cell_type": "markdown",
   "metadata": {},
   "source": [
    "# Detect Floating Point Number"
   ]
  },
  {
   "cell_type": "code",
   "execution_count": null,
   "metadata": {},
   "outputs": [],
   "source": [
    "import re\n",
    "for _ in range(int(input())):\n",
    "    print(bool(re.match(r'^[-+]?[0-9]*\\.[0-9]+$',input())))"
   ]
  },
  {
   "cell_type": "markdown",
   "metadata": {},
   "source": [
    "# Re.split()"
   ]
  },
  {
   "cell_type": "code",
   "execution_count": null,
   "metadata": {},
   "outputs": [],
   "source": [
    "regex_pattern = r\"\\W+\"\t# Do not delete 'r'.\n",
    "import re\n",
    "print(\"\\n\".join(re.split(regex_pattern, input())))"
   ]
  },
  {
   "cell_type": "markdown",
   "metadata": {},
   "source": [
    "# Group(), Groups() & Groupdict()"
   ]
  },
  {
   "cell_type": "code",
   "execution_count": null,
   "metadata": {},
   "outputs": [],
   "source": [
    "# Enter your code here. Read input from STDIN. Print output to STDOUT\n",
    "import re\n",
    "m = re.search(r'([a-zA-Z0-9])\\1+', input().strip())\n",
    "print(m.group(1) if m else -1)"
   ]
  },
  {
   "cell_type": "markdown",
   "metadata": {},
   "source": [
    "# Re.findall() & Re.finditer()"
   ]
  },
  {
   "cell_type": "code",
   "execution_count": null,
   "metadata": {},
   "outputs": [],
   "source": [
    "import re\n",
    "v = \"AEIOUaeiou\"\n",
    "c = \"QWRTYPSDFGHJKLZXCVBNMqwrtypsdfghjklzxcvbnm\"\n",
    "m = re.findall(r\"(?<=[%s])([%s]{2,})[%s]\" % (c, v, c), input(), flags = re.I)\n",
    "print('\\n'.join(m or ['-1']))\n"
   ]
  },
  {
   "cell_type": "markdown",
   "metadata": {},
   "source": [
    "# Re.start() & Re.end()"
   ]
  },
  {
   "cell_type": "code",
   "execution_count": null,
   "metadata": {},
   "outputs": [],
   "source": [
    "S = input()\n",
    "k = input()\n",
    "import re\n",
    "pattern = re.compile(k)\n",
    "#compile() 函数将一个字符串编译为字节代码。\n",
    "r = pattern.search(S)\n",
    "if not r: print(\"(-1, -1)\")\n",
    "while r:\n",
    "    print(\"({0}, {1})\".format(r.start(), r.end() - 1)) \n",
    "    r = pattern.search(S,r.start() + 1)\n"
   ]
  },
  {
   "cell_type": "markdown",
   "metadata": {},
   "source": [
    "# Regex Substitution"
   ]
  },
  {
   "cell_type": "code",
   "execution_count": null,
   "metadata": {},
   "outputs": [],
   "source": [
    "import re\n",
    "for i in range(int(input())):\n",
    "     print(re.sub(r'(?<= )(&&|\\|\\|)(?= )', lambda x: 'and' if x.group() == '&&' else 'or',input()))"
   ]
  },
  {
   "cell_type": "markdown",
   "metadata": {},
   "source": [
    "# Validating Roman Numerals"
   ]
  },
  {
   "cell_type": "code",
   "execution_count": null,
   "metadata": {},
   "outputs": [],
   "source": [
    "regex_pattern = r\"M{0,3}(C[MD]|D?C{0,3})(X[CL]|L?X{0,3})(I[VX]|V?I{0,3})$\"\t# Do not delete 'r'.\n",
    "\n",
    "import re\n",
    "print(str(bool(re.match(regex_pattern, input()))))"
   ]
  },
  {
   "cell_type": "markdown",
   "metadata": {},
   "source": [
    "# Validating phone numbers"
   ]
  },
  {
   "cell_type": "code",
   "execution_count": null,
   "metadata": {},
   "outputs": [],
   "source": [
    "# Enter your code here. Read input from STDIN. Print output to STDOUT\n",
    "regex_pattern = r\"^[789]\\d{9}$\"    \n",
    "import re\n",
    "for i in range(int(input())):\n",
    "    print(\"YES\" if re.match(regex_pattern, input()) else \"NO\")\n"
   ]
  },
  {
   "cell_type": "markdown",
   "metadata": {},
   "source": [
    "# Validating and Parsing Email Addresses"
   ]
  },
  {
   "cell_type": "code",
   "execution_count": null,
   "metadata": {},
   "outputs": [],
   "source": [
    "# Enter your code here. Read input from STDIN. Print output to STDOUT\n",
    "regex_pattern = r\"^[a-zA-Z][\\w\\-.]*@[a-zA-Z]+\\.[a-zA-Z]{1,3}$\"    \n",
    "import re\n",
    "import email.utils\n",
    "for i in range(int(input())):\n",
    "    uname, uemail = email.utils.parseaddr(input())\n",
    "    if re.match(regex_pattern, uemail):\n",
    "      print(email.utils.formataddr((uname,uemail)))\n",
    "\n"
   ]
  },
  {
   "cell_type": "markdown",
   "metadata": {},
   "source": [
    "# Hex Color Code"
   ]
  },
  {
   "cell_type": "code",
   "execution_count": null,
   "metadata": {},
   "outputs": [],
   "source": [
    "# Enter your code here. Read input from STDIN. Print output to STDOUT\n",
    "import re\n",
    "for i in range(int(input())):\n",
    "    x=re.findall(r'(?<!^)(#(?:[\\da-fA-F]{3}){1,2})',input())\n",
    "    for i in range(len(x)):\n",
    "        print(x[i])"
   ]
  },
  {
   "cell_type": "markdown",
   "metadata": {},
   "source": [
    "# XML 1 - Find the Score"
   ]
  },
  {
   "cell_type": "code",
   "execution_count": null,
   "metadata": {},
   "outputs": [],
   "source": [
    "import sys\n",
    "import xml.etree.ElementTree as etree\n",
    "\n",
    "def get_attr_number(node):\n",
    "    # your code goes here\n",
    "    m=0\n",
    "    for child in node.iter():\n",
    "        m+=len(child.items())\n",
    "    return m\n",
    "\n",
    "if __name__ == '__main__':\n",
    "    sys.stdin.readline()\n",
    "    xml = sys.stdin.read()\n",
    "    tree = etree.ElementTree(etree.fromstring(xml))\n",
    "    root = tree.getroot()\n",
    "    print(get_attr_number(root))"
   ]
  },
  {
   "cell_type": "markdown",
   "metadata": {},
   "source": [
    "# XML2 - Find the Maximum Depth"
   ]
  },
  {
   "cell_type": "code",
   "execution_count": null,
   "metadata": {},
   "outputs": [],
   "source": [
    "import xml.etree.ElementTree as etree\n",
    "\n",
    "maxdepth = 0\n",
    "def depth(elem, level):\n",
    "    global maxdepth\n",
    "    # your code goes here\n",
    "    if (level == maxdepth):\n",
    "        maxdepth += 1    \n",
    "    for child in elem:\n",
    "        depth(child, level + 1)\n",
    "\n",
    "if __name__ == '__main__':\n",
    "    n = int(input())\n",
    "    xml = \"\"\n",
    "    for i in range(n):\n",
    "        xml =  xml + input() + \"\\n\"\n",
    "    tree = etree.ElementTree(etree.fromstring(xml))\n",
    "    depth(tree.getroot(), -1)\n",
    "    print(maxdepth)"
   ]
  },
  {
   "cell_type": "markdown",
   "metadata": {},
   "source": [
    "# HTML Parser - Part 1"
   ]
  },
  {
   "cell_type": "code",
   "execution_count": null,
   "metadata": {},
   "outputs": [],
   "source": [
    "from html.parser import HTMLParser\n",
    "class MyHTMLParser(HTMLParser):\n",
    "    def handle_starttag(self, tag, attrs):        \n",
    "        print ('Start :',tag)\n",
    "        for ele in attrs:\n",
    "            print ('->',ele[0],'>',ele[1])\n",
    "            \n",
    "    def handle_endtag(self, tag):\n",
    "        print ('End   :',tag)\n",
    "        \n",
    "    def handle_startendtag(self, tag, attrs):\n",
    "        print ('Empty :',tag)\n",
    "        for ele in attrs:\n",
    "            print ('->',ele[0],'>',ele[1])\n",
    "            \n",
    "MyParser = MyHTMLParser()\n",
    "MyParser.feed(''.join([input().strip() for _ in range(int(input()))]))\n"
   ]
  },
  {
   "cell_type": "markdown",
   "metadata": {},
   "source": [
    "# HTML Parser - Part 2"
   ]
  },
  {
   "cell_type": "code",
   "execution_count": null,
   "metadata": {},
   "outputs": [],
   "source": [
    "from html.parser import HTMLParser\n",
    "\n",
    "class MyHTMLParser(HTMLParser):\n",
    "     def handle_comment(self, data):\n",
    "        number_of_line = len(data.split('\\n'))\n",
    "        if number_of_line>1:\n",
    "            print('>>> Multi-line Comment')\n",
    "            print(data)\n",
    "        else:\n",
    "            print('>>> Single-line Comment')\n",
    "            print(data)\n",
    "        \n",
    "     def handle_data(self, data):\n",
    "        if data.strip():\n",
    "            print(\">>> Data\")\n",
    "            print(data)\n",
    "  \n",
    "  \n",
    " \n",
    "html = \"\"       \n",
    "for i in range(int(input())):\n",
    "    html += input().rstrip()\n",
    "    html += '\\n'\n",
    "    \n",
    "parser = MyHTMLParser()\n",
    "parser.feed(html)\n",
    "parser.close()\n"
   ]
  },
  {
   "cell_type": "markdown",
   "metadata": {},
   "source": [
    "# Detect HTML Tags, Attributes and Attribute Values"
   ]
  },
  {
   "cell_type": "code",
   "execution_count": null,
   "metadata": {},
   "outputs": [],
   "source": [
    "from html.parser import HTMLParser\n",
    "class MyHTMLParser(HTMLParser):\n",
    "    def handle_starttag(self, tag, attrs):\n",
    "        print(tag)\n",
    "        [print('-> {} > {}'.format(*attr) ) for attr in attrs]\n",
    "        \n",
    "html = '\\n'.join([input() for _ in range(int(input()))])\n",
    "parser = MyHTMLParser()\n",
    "parser.feed(html)\n",
    "parser.close()\n"
   ]
  },
  {
   "cell_type": "markdown",
   "metadata": {},
   "source": [
    "# Validating UID"
   ]
  },
  {
   "cell_type": "code",
   "execution_count": null,
   "metadata": {},
   "outputs": [],
   "source": [
    "import re\n",
    "N = int(input())\n",
    "no_repeats = r'(?!.*(.).*\\1)' \n",
    "two_plus_uppercase = r'(?=(?:.*[A-Z]+){2,})'\n",
    "three_plus_digits = r'(?=(?:.*\\d){3,})'\n",
    "ten_alphanumeric = r'[\\w]{10}'\n",
    "filters = [no_repeats, two_plus_uppercase, three_plus_digits, ten_alphanumeric]\n",
    "\n",
    "for i in range(0, N):\n",
    "    uid = input()\n",
    "    print('Valid') if all([re.match(f, uid) for f in filters]) else print      ('Invalid')\n"
   ]
  },
  {
   "cell_type": "markdown",
   "metadata": {},
   "source": [
    "# Validating Credit Card Numbers"
   ]
  },
  {
   "cell_type": "code",
   "execution_count": null,
   "metadata": {},
   "outputs": [],
   "source": [
    "# Enter your code here. Read input from STDIN. Print output to STDOUT\n",
    "import re\n",
    "N = int(input())\n",
    "start = r'^[4,5,6]' \n",
    "four_group=r'^\\d{4}-?\\d{4}-?\\d{4}-?\\d{4}$'\n",
    "no_seperator = r'[^\\s_]'\n",
    "no_more_four_repeat = r\"(?!.*(\\d)(-?\\1){3})\"\n",
    "\n",
    "filters = [start,four_group,no_seperator,no_more_four_repeat ]\n",
    "\n",
    "for i in range(0, N):\n",
    "    uid = input()\n",
    "    print('Valid') if all([re.match(f, uid) for f in filters]) else print('Invalid')\n"
   ]
  },
  {
   "cell_type": "markdown",
   "metadata": {},
   "source": [
    "# Validating Postal Codes"
   ]
  },
  {
   "cell_type": "code",
   "execution_count": null,
   "metadata": {},
   "outputs": [],
   "source": [
    "regex_integer_in_range = r\"^[1-9][0-9]{5}$\"\n",
    "regex_alternating_repetitive_digit_pair = r\"(\\d)(?=.\\1)\"\n",
    "\n",
    "import re\n",
    "P = input()\n",
    "\n",
    "print (bool(re.match(regex_integer_in_range, P)) \n",
    "and len(re.findall(regex_alternating_repetitive_digit_pair, P)) < 2)"
   ]
  },
  {
   "cell_type": "markdown",
   "metadata": {},
   "source": [
    "# Matrix Script"
   ]
  },
  {
   "cell_type": "code",
   "execution_count": null,
   "metadata": {},
   "outputs": [],
   "source": [
    "#!/bin/python3\n",
    "#It consists of alphanumeric characters, spaces and symbols (!,@,#,$,%,&).\n",
    "import math\n",
    "import os\n",
    "import random\n",
    "import re\n",
    "import sys\n",
    "\n",
    "first_multiple_input = input().rstrip().split()\n",
    "\n",
    "n = int(first_multiple_input[0])\n",
    "\n",
    "m = int(first_multiple_input[1])\n",
    "\n",
    "matrix = []\n",
    "\n",
    "for _ in range(n):\n",
    "    matrix_item = input()\n",
    "    matrix.append(matrix_item)\n",
    "print(re.sub(r'(\\w)(\\W)+(\\w)',\n",
    "          r'\\1 \\3',\n",
    "          ''.join([u for t in zip(*matrix) for u in t])))\n"
   ]
  },
  {
   "cell_type": "markdown",
   "metadata": {},
   "source": [
    "# Standardize Mobile Number Using Decorators"
   ]
  },
  {
   "cell_type": "code",
   "execution_count": null,
   "metadata": {},
   "outputs": [],
   "source": [
    "def wrapper(f):\n",
    "    def fun(l):\n",
    "        f([\"+91 \"+c[-10:-5]+\" \"+c[-5:] for c in l])\n",
    "    return fun\n",
    "\n",
    "@wrapper\n",
    "def sort_phone(l):\n",
    "    print(*sorted(l), sep='\\n')\n",
    "\n",
    "if __name__ == '__main__':\n",
    "    l = [input() for _ in range(int(input()))]\n",
    "    sort_phone(l) \n",
    "\n",
    "\n"
   ]
  },
  {
   "cell_type": "markdown",
   "metadata": {},
   "source": [
    "# Decorators 2 - Name Directory"
   ]
  },
  {
   "cell_type": "code",
   "execution_count": null,
   "metadata": {},
   "outputs": [],
   "source": [
    "import operator\n",
    "\n",
    "def person_lister(f):\n",
    "    def inner(people):     \n",
    "        return map(f, sorted(people, key=lambda x: int(x[2]))) \n",
    "    return inner\n",
    "\n",
    "@person_lister\n",
    "def name_format(person):\n",
    "    return (\"Mr. \" if person[3] == \"M\" else \"Ms. \") + person[0] + \" \" + person[1]\n",
    "\n",
    "if __name__ == '__main__':\n",
    "    people = [input().split() for i in range(int(input()))]\n",
    "    print(*name_format(people), sep='\\n')"
   ]
  },
  {
   "cell_type": "markdown",
   "metadata": {},
   "source": [
    "# Arrays"
   ]
  },
  {
   "cell_type": "code",
   "execution_count": null,
   "metadata": {},
   "outputs": [],
   "source": [
    "\n",
    "def arrays(arr):\n",
    "    L=numpy.array(arr,float)\n",
    "    #return L[::-1]\n",
    "    return numpy.flipud(L)\n",
    "#numpy.flipud => reverse the array\n",
    "arr = input().strip().split(' ')\n",
    "result = arrays(arr)\n",
    "print(result)"
   ]
  },
  {
   "cell_type": "markdown",
   "metadata": {},
   "source": [
    "# Shape and Reshape"
   ]
  },
  {
   "cell_type": "code",
   "execution_count": null,
   "metadata": {},
   "outputs": [],
   "source": [
    "import numpy\n",
    "\n",
    "arr = input().strip().split(' ')\n",
    "L=numpy.array(arr,int)\n",
    "print(numpy.reshape(L,(3,3)))"
   ]
  },
  {
   "cell_type": "markdown",
   "metadata": {},
   "source": [
    "# Transpose and Flatten"
   ]
  },
  {
   "cell_type": "code",
   "execution_count": null,
   "metadata": {},
   "outputs": [],
   "source": [
    "import numpy\n",
    "\n",
    "n, m = map(int, input().split())\n",
    "array = numpy.array([input().strip().split() for _ in range(n)], int)\n",
    "print (array.transpose())\n",
    "print (array.flatten())"
   ]
  },
  {
   "cell_type": "markdown",
   "metadata": {},
   "source": [
    "# Concatenate"
   ]
  },
  {
   "cell_type": "code",
   "execution_count": null,
   "metadata": {},
   "outputs": [],
   "source": [
    "import numpy\n",
    "\n",
    "N,M,P=map(int,input().strip().split(' '))\n",
    "L1=numpy.array([input().strip().split() for _ in range(N)],int)\n",
    "L2=numpy.array([input().strip().split() for _ in range(M)],int)\n",
    "print(numpy.concatenate((L1, L2), axis = 0))   \n"
   ]
  },
  {
   "cell_type": "markdown",
   "metadata": {},
   "source": [
    "# Zeros and Ones"
   ]
  },
  {
   "cell_type": "code",
   "execution_count": null,
   "metadata": {},
   "outputs": [],
   "source": [
    "import numpy\n",
    "num=tuple(map(int,input().strip().split(' ')))\n",
    "print(numpy.zeros(num, dtype = numpy.int))\n",
    "print(numpy.ones(num, dtype = numpy.int))"
   ]
  },
  {
   "cell_type": "markdown",
   "metadata": {},
   "source": [
    "# Eye and Identity"
   ]
  },
  {
   "cell_type": "code",
   "execution_count": null,
   "metadata": {},
   "outputs": [],
   "source": [
    "import numpy\n",
    "N,M=map(int,input().split())\n",
    "\n",
    "print(str(numpy.eye(N,M)).replace('1',' 1').replace('0',' 0')) \n",
    "\n"
   ]
  },
  {
   "cell_type": "markdown",
   "metadata": {},
   "source": [
    "# Array Mathematics"
   ]
  },
  {
   "cell_type": "code",
   "execution_count": null,
   "metadata": {},
   "outputs": [],
   "source": [
    "import numpy\n",
    "\n",
    "N,M=map(int,input().split())\n",
    "A=numpy.array([input().strip().split() for _ in range(N)],int)\n",
    "B=numpy.array([input().strip().split() for _ in range(N)],int)\n",
    "\n",
    "print(numpy.add(A,B))\n",
    "print(numpy.subtract(A,B))\n",
    "print(numpy.multiply(A,B))\n",
    "print(numpy.floor_divide(A,B))\n",
    "#A//B np.floor_divide(A,B) \n",
    "#A/B np.true_divide(A,B)\n",
    "print(numpy.mod(A,B))\n",
    "print(numpy.power(A,B))\n"
   ]
  },
  {
   "cell_type": "markdown",
   "metadata": {},
   "source": [
    "# Floor, Ceil and Rint"
   ]
  },
  {
   "cell_type": "code",
   "execution_count": null,
   "metadata": {},
   "outputs": [],
   "source": [
    "import numpy\n",
    "numpy.set_printoptions(sign=' ')\n",
    "L=numpy.array(input().strip().split(),float)\n",
    "print(numpy.floor(L))\n",
    "print(numpy.ceil(L))\n",
    "print(numpy.rint(L))"
   ]
  },
  {
   "cell_type": "markdown",
   "metadata": {},
   "source": [
    "# Sum and Prod"
   ]
  },
  {
   "cell_type": "code",
   "execution_count": null,
   "metadata": {},
   "outputs": [],
   "source": [
    "import numpy\n",
    "\n",
    "N,M=map(int,input().split())\n",
    "L=numpy.array([input().strip().split() for _ in range(N)],int)\n",
    "print(numpy.prod(numpy.sum(L,axis=0)))\n"
   ]
  },
  {
   "cell_type": "markdown",
   "metadata": {},
   "source": [
    "# Min and Max"
   ]
  },
  {
   "cell_type": "code",
   "execution_count": null,
   "metadata": {},
   "outputs": [],
   "source": [
    "import numpy\n",
    "\n",
    "N,M=map(int,input().split())\n",
    "L=numpy.array([input().strip().split() for _ in range(N)],int)\n",
    "print(numpy.max(numpy.min(L,axis=1)))\n"
   ]
  },
  {
   "cell_type": "markdown",
   "metadata": {},
   "source": [
    "# Mean, Var, and Std"
   ]
  },
  {
   "cell_type": "code",
   "execution_count": null,
   "metadata": {},
   "outputs": [],
   "source": [
    "import numpy\n",
    "numpy.set_printoptions(sign=\" \",legacy='1.13')\n",
    "N,M=map(int,input().split())\n",
    "L=numpy.array([input().strip().split() for _ in range(N)],int)\n",
    "print(numpy.mean(L,axis=1))\n",
    "print(numpy.var(L,axis=0))\n",
    "print(numpy.std(L,axis=None))\n"
   ]
  },
  {
   "cell_type": "markdown",
   "metadata": {},
   "source": [
    "# Dot and Cross"
   ]
  },
  {
   "cell_type": "code",
   "execution_count": null,
   "metadata": {},
   "outputs": [],
   "source": [
    "import numpy\n",
    "N=int(input())\n",
    "A=numpy.array([input().strip().split() for _ in range(N)],int)\n",
    "B=numpy.array([input().strip().split() for _ in range(N)],int)\n",
    "print(numpy.dot(A,B))"
   ]
  },
  {
   "cell_type": "markdown",
   "metadata": {},
   "source": [
    "# Inner and Outer"
   ]
  },
  {
   "cell_type": "code",
   "execution_count": null,
   "metadata": {},
   "outputs": [],
   "source": [
    "import numpy\n",
    "A=numpy.array(input().strip().split(),int)\n",
    "B=numpy.array(input().strip().split(),int)\n",
    "print(numpy.inner(A,B))\n",
    "print(numpy.outer(A,B))\n",
    "\n"
   ]
  },
  {
   "cell_type": "markdown",
   "metadata": {},
   "source": [
    "# Polynomials"
   ]
  },
  {
   "cell_type": "code",
   "execution_count": null,
   "metadata": {},
   "outputs": [],
   "source": [
    "import numpy\n",
    "A=numpy.array(input().strip().split(),float)\n",
    "print(numpy.polyval(A,float(input())))\n"
   ]
  },
  {
   "cell_type": "markdown",
   "metadata": {},
   "source": [
    "# Linear Algebra"
   ]
  },
  {
   "cell_type": "code",
   "execution_count": null,
   "metadata": {},
   "outputs": [],
   "source": [
    "import numpy\n",
    "numpy.set_printoptions(legacy='1.13')\n",
    "N=int(input())\n",
    "A=numpy.array([input().strip().split() for _ in range(N)],float)\n",
    "print(numpy.linalg.det(A))\n",
    "\n"
   ]
  },
  {
   "cell_type": "markdown",
   "metadata": {},
   "source": [
    "# Birthday Cake Candles "
   ]
  },
  {
   "cell_type": "code",
   "execution_count": null,
   "metadata": {},
   "outputs": [],
   "source": [
    "#!/bin/python3\n",
    "\n",
    "import math\n",
    "import os\n",
    "import random\n",
    "import re\n",
    "import sys\n",
    "from collections import Counter\n",
    "# Complete the 'birthdayCakeCandles' function below.\n",
    "#\n",
    "# The function is expected to return an INTEGER.\n",
    "# The function accepts INTEGER_ARRAY candles as parameter.\n",
    "#\n",
    "\n",
    "def birthdayCakeCandles(candles):\n",
    "    # Write your code here\n",
    "    return Counter(candles).most_common(1)[-1][-1]\n",
    "if __name__ == '__main__':\n",
    "    fptr = open(os.environ['OUTPUT_PATH'], 'w')\n",
    "\n",
    "    candles_count = int(input().strip())\n",
    "\n",
    "    candles = list(map(int, input().rstrip().split()))\n",
    "\n",
    "    result = birthdayCakeCandles(candles)\n",
    "\n",
    "    fptr.write(str(result) + '\\n')\n",
    "\n",
    "    fptr.close()\n"
   ]
  },
  {
   "cell_type": "markdown",
   "metadata": {},
   "source": [
    "# Number Line Jumps"
   ]
  },
  {
   "cell_type": "code",
   "execution_count": null,
   "metadata": {},
   "outputs": [],
   "source": [
    "#!/bin/python3\n",
    "\n",
    "import math\n",
    "import os\n",
    "import random\n",
    "import re\n",
    "import sys\n",
    "\n",
    "# Complete the kangaroo function below.\n",
    "def kangaroo(x1, v1, x2, v2):\n",
    "    N=str()\n",
    "    if(v1==v2):\n",
    "        N=\"NO\"\n",
    "    elif((x1-x2)/(v2-v1)>0 and (x1-x2)%(v2-v1)==0):\n",
    "        N=\"YES\"\n",
    "    else:\n",
    "        N=\"NO\"\n",
    "    return N\n",
    "if __name__ == '__main__':\n",
    "    fptr = open(os.environ['OUTPUT_PATH'], 'w')\n",
    "\n",
    "    x1V1X2V2 = input().split()\n",
    "\n",
    "    x1 = int(x1V1X2V2[0])\n",
    "\n",
    "    v1 = int(x1V1X2V2[1])\n",
    "\n",
    "    x2 = int(x1V1X2V2[2])\n",
    "\n",
    "    v2 = int(x1V1X2V2[3])\n",
    "\n",
    "    result = kangaroo(x1, v1, x2, v2)\n",
    "\n",
    "    fptr.write(result + '\\n')\n",
    "\n",
    "    fptr.close()\n"
   ]
  },
  {
   "cell_type": "markdown",
   "metadata": {},
   "source": [
    "# Viral Advertising"
   ]
  },
  {
   "cell_type": "code",
   "execution_count": null,
   "metadata": {},
   "outputs": [],
   "source": [
    "#!/bin/python3\n",
    "\n",
    "import math\n",
    "import os\n",
    "import random\n",
    "import re\n",
    "import sys\n",
    "\n",
    "# Complete the viralAdvertising function below.\n",
    "def viralAdvertising(n):\n",
    "    Num=2\n",
    "    total=2\n",
    "    for i in range(1,n):\n",
    "       Num= Num*3//2\n",
    "       #Num=P\n",
    "       total+=Num\n",
    "    return total\n",
    "if __name__ == '__main__':\n",
    "    fptr = open(os.environ['OUTPUT_PATH'], 'w')\n",
    "\n",
    "    n = int(input())\n",
    "\n",
    "    result = viralAdvertising(n)\n",
    "\n",
    "    fptr.write(str(result) + '\\n')\n",
    "\n",
    "    fptr.close()\n"
   ]
  },
  {
   "cell_type": "markdown",
   "metadata": {},
   "source": [
    "# Recursive Digit Sum"
   ]
  },
  {
   "cell_type": "code",
   "execution_count": null,
   "metadata": {},
   "outputs": [],
   "source": [
    "#!/bin/python3\n",
    "\n",
    "import math\n",
    "import os\n",
    "import random\n",
    "import re\n",
    "import sys\n",
    "# Complete the superDigit function below.\n",
    "def superDigit(n, k):\n",
    "    x = (int(n) * k) % 9\n",
    "    return(x if x else 9)\n",
    "    \n",
    "if __name__ == '__main__':\n",
    "    fptr = open(os.environ['OUTPUT_PATH'], 'w')\n",
    "\n",
    "    nk = input().split()\n",
    "\n",
    "    n = nk[0]\n",
    "\n",
    "    k = int(nk[1])\n",
    "\n",
    "    result = superDigit(n, k)\n",
    "\n",
    "    fptr.write(str(result) + '\\n')\n",
    "\n",
    "    fptr.close()\n"
   ]
  },
  {
   "cell_type": "markdown",
   "metadata": {},
   "source": [
    "# Insertion Sort - Part 1"
   ]
  },
  {
   "cell_type": "code",
   "execution_count": null,
   "metadata": {},
   "outputs": [],
   "source": [
    "#!/bin/python3\n",
    "\n",
    "import math\n",
    "import os\n",
    "import random\n",
    "import re\n",
    "import sys\n",
    "\n",
    "# Complete the insertionSort1 function below.\n",
    "def insertionSort1(n, arr):\n",
    "    i = n-1\n",
    "    val = arr[i]\n",
    "    while(i>0 and val<arr[i-1]):\n",
    "        arr[i] = arr[i-1]\n",
    "        print(*arr)\n",
    "        i-=1\n",
    "    arr[i] = val\n",
    "    print(*arr)\n",
    "    return\n",
    "if __name__ == '__main__':\n",
    "    n = int(input())\n",
    "\n",
    "    arr = list(map(int, input().rstrip().split()))\n",
    "\n",
    "    insertionSort1(n, arr)\n"
   ]
  },
  {
   "cell_type": "markdown",
   "metadata": {},
   "source": [
    "# Insertion Sort - Part 2"
   ]
  },
  {
   "cell_type": "code",
   "execution_count": null,
   "metadata": {},
   "outputs": [],
   "source": [
    "#!/bin/python3\n",
    "\n",
    "import math\n",
    "import os\n",
    "import random\n",
    "import re\n",
    "import sys\n",
    "\n",
    "# Complete the insertionSort2 function below.\n",
    "def insertionSort2(n, arr):\n",
    "    for i in range(1,len(arr)):\n",
    "        key=arr[i]\n",
    "        j=i-1\n",
    "        while j>=0 and arr[j]>key:\n",
    "            arr[j+1]=arr[j]\n",
    "            j=j-1\n",
    "        arr[j+1]=key\n",
    "        print(*arr)\n",
    "    return\n",
    "if __name__ == '__main__':\n",
    "    n = int(input())\n",
    "\n",
    "    arr = list(map(int, input().rstrip().split()))\n",
    "\n",
    "    insertionSort2(n, arr)\n"
   ]
  },
  {
   "cell_type": "code",
   "execution_count": null,
   "metadata": {},
   "outputs": [],
   "source": []
  },
  {
   "cell_type": "code",
   "execution_count": null,
   "metadata": {},
   "outputs": [],
   "source": []
  },
  {
   "cell_type": "code",
   "execution_count": null,
   "metadata": {},
   "outputs": [],
   "source": []
  },
  {
   "cell_type": "code",
   "execution_count": null,
   "metadata": {},
   "outputs": [],
   "source": []
  },
  {
   "cell_type": "code",
   "execution_count": null,
   "metadata": {},
   "outputs": [],
   "source": []
  }
 ],
 "metadata": {
  "kernelspec": {
   "display_name": "Python 3",
   "language": "python",
   "name": "python3"
  },
  "language_info": {
   "codemirror_mode": {
    "name": "ipython",
    "version": 3
   },
   "file_extension": ".py",
   "mimetype": "text/x-python",
   "name": "python",
   "nbconvert_exporter": "python",
   "pygments_lexer": "ipython3",
   "version": "3.8.3"
  }
 },
 "nbformat": 4,
 "nbformat_minor": 4
}
